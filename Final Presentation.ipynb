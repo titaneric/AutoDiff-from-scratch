{
 "cells": [
  {
   "cell_type": "markdown",
   "metadata": {},
   "source": [
    "# A basic neural network library supported auto differentiation"
   ]
  },
  {
   "cell_type": "markdown",
   "metadata": {},
   "source": [
    "## Outline\n",
    "\n",
    "- Motivation\n",
    "- Introduction\n",
    "- Implementation\n",
    "- Application"
   ]
  },
  {
   "cell_type": "markdown",
   "metadata": {},
   "source": [
    "## Motivation\n",
    "\n",
    "Most deep learning courses aim to teach math behind the network, architecture and their applications, but seldom course talk about how to implement and design the deep learning library.\n",
    "\n",
    "### Goal\n",
    "\n",
    "- Implement this kind of library\n",
    "- Learn how and why the priors (Tensorflow and PyTorch etc.) design their work."
   ]
  },
  {
   "cell_type": "markdown",
   "metadata": {},
   "source": [
    "## Introduction"
   ]
  },
  {
   "cell_type": "markdown",
   "metadata": {},
   "source": [
    "### Computational Graph"
   ]
  },
  {
   "cell_type": "markdown",
   "metadata": {},
   "source": [
    "### Auto Differentiation"
   ]
  },
  {
   "cell_type": "markdown",
   "metadata": {},
   "source": [
    "### VJP"
   ]
  },
  {
   "cell_type": "markdown",
   "metadata": {},
   "source": [
    "### Back propagation"
   ]
  },
  {
   "cell_type": "markdown",
   "metadata": {},
   "source": [
    "## Implementation"
   ]
  },
  {
   "cell_type": "markdown",
   "metadata": {},
   "source": [
    "### Forward Propagation\n",
    "\n",
    "Q: How do we obtain the computational graph?\n",
    "\n",
    "A: Trace every operation with the wrapped version by decorator."
   ]
  },
  {
   "cell_type": "markdown",
   "metadata": {},
   "source": [
    "That's say we want to print the numpy function name during the calculation.\n",
    "\n",
    "We can fully leverage the power of decorator."
   ]
  },
  {
   "cell_type": "code",
   "execution_count": 1,
   "metadata": {},
   "outputs": [
    {
     "name": "stdout",
     "output_type": "stream",
     "text": [
      "Wrapped version of numpy function, and its name is add\n",
      "3\n",
      "Wrapped version of numpy function, and its name is subtract\n",
      "-1\n"
     ]
    }
   ],
   "source": [
    "import numpy as np\n",
    "\n",
    "\n",
    "def get_name_decorator(func):\n",
    "    def wrapped(*args, **kwargs):\n",
    "        print(f\"Wrapped version of numpy function, and its name is {func.__name__}\")\n",
    "        result = func(*args, **kwargs)\n",
    "        return result\n",
    "    return wrapped\n",
    "        \n",
    "\n",
    "for function in [np.add, np.subtract]:\n",
    "    globals()[function.__name__] = get_name_decorator(function)\n",
    "\n",
    "print(add(1, 2))\n",
    "print(subtract(1, 2))"
   ]
  },
  {
   "cell_type": "markdown",
   "metadata": {},
   "source": [
    "No things have been little complicated. Due to the same reason, we can put the operator on the computational graph on the fly."
   ]
  },
  {
   "cell_type": "code",
   "execution_count": 2,
   "metadata": {},
   "outputs": [],
   "source": [
    "class Node:\n",
    "    def __init__(self):\n",
    "        self.gradient = 0\n",
    "\n",
    "class OperationNode(Node):\n",
    "    def __init__(self, func, args, kwargs, result):\n",
    "        super().__init__()\n",
    "        self.recipe = (func, args, kwargs, result, len(args))\n",
    "\n",
    "\n",
    "class VariableNode(Node):\n",
    "    def __init__(self, var):\n",
    "        super().__init__()\n",
    "        self.var = var\n",
    "\n",
    "\n",
    "class PlaceholderNode(Node):\n",
    "    def __init__(self, var):\n",
    "        super().__init__()\n",
    "        self.var = var\n",
    "\n",
    "\n",
    "class ConstantNode(Node):\n",
    "    def __init__(self, constant):\n",
    "        super().__init__()\n",
    "        self.constant = constant"
   ]
  },
  {
   "cell_type": "code",
   "execution_count": 6,
   "metadata": {},
   "outputs": [
    {
     "name": "stdout",
     "output_type": "stream",
     "text": [
      "Forward pass\n",
      "Result is 2\n",
      "Corresponding computational graph is \n"
     ]
    },
    {
     "data": {
      "image/png": "[encoded data removed]",
      "text/plain": [
       "<Figure size 720x720 with 1 Axes>"
      ]
     },
     "metadata": {},
     "output_type": "display_data"
    }
   ],
   "source": [
    "import numpy as np\n",
    "import networkx as nx\n",
    "import matplotlib.pyplot as plt\n",
    "\n",
    "default_graph = nx.DiGraph()\n",
    "stack = []\n",
    "\n",
    "def add_node(node, info):\n",
    "    node_index = len(default_graph.nodes) + 1\n",
    "    default_graph.add_node(node_index, node=node, info=info)\n",
    "    return node_index\n",
    "\n",
    "\n",
    "def constant(array):\n",
    "    def wrapped(*args, **kwargs):\n",
    "        node = ConstantNode(\"\".join(str(a) for a in args))\n",
    "        node_index = add_node(node, *args)\n",
    "        stack.append(node_index)\n",
    "        value = array(*args, **kwargs)\n",
    "        return value\n",
    "    return wrapped\n",
    "\n",
    "        \n",
    "def primitive(func):\n",
    "    def wrapped(*args, **kwargs):\n",
    "        result = func(*args, **kwargs)\n",
    "        node = OperationNode(func, args, kwargs, result)\n",
    "        node_index = add_node(node, func.__name__[:3])\n",
    "        parents = stack[-len(args):]\n",
    "        \n",
    "        for parent in parents:\n",
    "            default_graph.add_edge(parent, node_index)\n",
    "            stack.pop()\n",
    "        \n",
    "        stack.append(node_index)\n",
    "        return result\n",
    "    return wrapped\n",
    "        \n",
    "\n",
    "def wrapped_numpy_operator():\n",
    "    for function in [np.add, np.subtract]:\n",
    "        globals()[function.__name__] = primitive(function)\n",
    "\n",
    "    globals()[\"const\"] = constant(np.array)\n",
    "\n",
    "    \n",
    "def plot_graph(backward=False, backward_result={}):\n",
    "    arrow_style = \"<|-\" if backward else \"-|>\" \n",
    "    edge_labels = {}\n",
    "    if backward:\n",
    "        info = \"output\"\n",
    "        node_index = add_node(node=ConstantNode(info), info=info)\n",
    "        default_graph.add_edge(node_index - 1, node_index)\n",
    "        for node, result in backward_result.items():\n",
    "            for edge in default_graph.edges:\n",
    "                head, tail = edge\n",
    "                if head == node:\n",
    "                    edge_labels[tuple(edge)] = str(result)\n",
    "        edge_labels[(node_index, node_index-1)] = \"1\"\n",
    "    plt.figure(3,figsize=(10,10)) \n",
    "    limits=plt.axis('off')\n",
    "    labels = {i: default_graph.nodes[i]['info'] for i in default_graph.nodes}\n",
    "    pos = nx.spring_layout(default_graph)\n",
    "    nx.draw_networkx_nodes(default_graph, pos, node_size = 3000, alpha=0.8)\n",
    "    nx.draw_networkx_labels(default_graph, pos, labels=labels, font_color=\"w\")\n",
    "    nx.draw_networkx_edges(default_graph, pos, width=3, arrowstyle=arrow_style, arrowsize=15)\n",
    "    if backward:\n",
    "        nx.draw_networkx_edge_labels(default_graph,pos,edge_labels=edge_labels,font_size=30)\n",
    "    plt.show()\n",
    "\n",
    "wrapped_numpy_operator()\n",
    "result = add(const(1), subtract(const(3), const(2)))\n",
    "print(\"Forward pass\")\n",
    "print(f\"Result is {result}\")\n",
    "print(\"Corresponding computational graph is \")\n",
    "plot_graph()"
   ]
  },
  {
   "cell_type": "markdown",
   "metadata": {},
   "source": [
    "### Register VJP after loading\n",
    "\n",
    "- We need to look up the corresponding VJP of given operation while backtracking.\n",
    "- Load in `__init__.py`"
   ]
  },
  {
   "cell_type": "code",
   "execution_count": 4,
   "metadata": {},
   "outputs": [
    {
     "name": "stdout",
     "output_type": "stream",
     "text": [
      "Upstream is 100\n",
      "Operator is negative, x is -6, result is 6\n",
      "Downstream is -100\n"
     ]
    }
   ],
   "source": [
    "from collections import defaultdict\n",
    "\n",
    "import numpy as np\n",
    "\n",
    "primitive_vhp = defaultdict(dict)\n",
    "\n",
    "def register_vjp(func, vhp_list):\n",
    "    for i, downstream in enumerate(vhp_list):\n",
    "        primitive_vhp[func.__name__][i] = downstream\n",
    "\n",
    "register_vjp(\n",
    "    np.add,\n",
    "    [\n",
    "        lambda upstream, result, x, y: upstream,  # w.r.t. x\n",
    "        lambda upstream, result, x, y: upstream,  # w.r.t. y\n",
    "    ])\n",
    "\n",
    "register_vjp(\n",
    "    np.subtract,\n",
    "    [\n",
    "        lambda upstream, result, x, y: upstream,  # w.r.t. x\n",
    "        lambda upstream, result, x, y: -upstream,  # w.r.t. y\n",
    "    ])\n",
    "\n",
    "register_vjp(\n",
    "    np.negative,\n",
    "    [\n",
    "        lambda upstream, result, x: -upstream,  # w.r.t. x\n",
    "    ])\n",
    "\n",
    "func = np.negative\n",
    "x = -6\n",
    "upstream = 100\n",
    "result = func(x)\n",
    "vjp = primitive_vhp[func.__name__][0]\n",
    "\n",
    "print(f\"Upstream is {upstream}\")\n",
    "print(f\"Operator is {func.__name__}, x is {x}, result is {result}\")\n",
    "print(f\"Downstream is {vjp(upstream, result, x)}\")"
   ]
  },
  {
   "cell_type": "markdown",
   "metadata": {},
   "source": [
    "### Backward Propagation"
   ]
  },
  {
   "cell_type": "code",
   "execution_count": 5,
   "metadata": {},
   "outputs": [
    {
     "name": "stdout",
     "output_type": "stream",
     "text": [
      "Backward pass\n"
     ]
    },
    {
     "data": {
      "image/png": "[encoded data removed]",
      "text/plain": [
       "<Figure size 720x720 with 1 Axes>"
      ]
     },
     "metadata": {},
     "output_type": "display_data"
    }
   ],
   "source": [
    "import networkx as nx\n",
    "\n",
    "def backward_prop(upstream):\n",
    "    default_graph.nodes[len(default_graph.nodes())]['node'].gradient = upstream\n",
    "\n",
    "    gradient_dict = {}\n",
    "    for node in reversed(list(nx.topological_sort(default_graph))):\n",
    "        child_node = default_graph.nodes[node]['node']\n",
    "        if isinstance(child_node, OperationNode):\n",
    "            func, args, kwargs, result, arg_num = child_node.recipe\n",
    "            upstream = child_node.gradient\n",
    "\n",
    "            for i, parent in zip(range(arg_num), default_graph.predecessors(node)):\n",
    "                vhp = primitive_vhp[func.__name__][i]\n",
    "                downstream = vhp(upstream, result, *args, **kwargs)\n",
    "                default_graph.nodes[parent]['node'].gradient += downstream\n",
    "        else:\n",
    "            gradient_dict[node] = child_node.gradient\n",
    "\n",
    "    return gradient_dict\n",
    "\n",
    "print(\"Backward pass\")\n",
    "backward_result = backward_prop(np.ones_like(result))\n",
    "plot_graph(True, backward_result)"
   ]
  },
  {
   "cell_type": "markdown",
   "metadata": {},
   "source": [
    "### Simple demo"
   ]
  },
  {
   "cell_type": "markdown",
   "metadata": {},
   "source": [
    "### Linear regression with one variable"
   ]
  },
  {
   "cell_type": "markdown",
   "metadata": {},
   "source": [
    "### Boston dataset – linear regression with multiple variables\n",
    "\n",
    "#### Mean Square Error"
   ]
  },
  {
   "cell_type": "markdown",
   "metadata": {},
   "source": [
    "### Iris dataset – classification \n",
    "\n",
    "#### Cross Entropy"
   ]
  },
  {
   "cell_type": "markdown",
   "metadata": {},
   "source": [
    "### Open Source contributions\n",
    "\n",
    "Find the redundant calculations of the derivatives of power function.\n",
    "1. [PyTorch](https://github.com/pytorch/pytorch/pull/28651)\n",
    "2. [JAX](https://github.com/google/jax/pull/157)\n",
    "3. [Autograd](https://github.com/HIPS/autograd/pull/541)"
   ]
  },
  {
   "cell_type": "markdown",
   "metadata": {},
   "source": [
    "### Reference"
   ]
  }
 ],
 "metadata": {
  "celltoolbar": "Slideshow",
  "kernelspec": {
   "display_name": "Python 3",
   "language": "python",
   "name": "python3"
  },
  "language_info": {
   "codemirror_mode": {
    "name": "ipython",
    "version": 3
   },
   "file_extension": ".py",
   "mimetype": "text/x-python",
   "name": "python",
   "nbconvert_exporter": "python",
   "pygments_lexer": "ipython3",
   "version": "3.7.4"
  }
 },
 "nbformat": 4,
 "nbformat_minor": 2
}
