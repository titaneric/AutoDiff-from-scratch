{
 "cells": [
  {
   "cell_type": "markdown",
   "metadata": {},
   "source": [
    "# A basic neural network library supported auto differentiation"
   ]
  },
  {
   "cell_type": "markdown",
   "metadata": {},
   "source": [
    "## Outline\n",
    "\n",
    "- Motivation\n",
    "- Introduction\n",
    "- Implementation\n",
    "- Application\n",
    "- Software engineering\n",
    "\n",
    "---"
   ]
  },
  {
   "cell_type": "markdown",
   "metadata": {},
   "source": [
    "## Motivation\n",
    "\n",
    "Most deep learning courses aim to teach math behind the network, architecture and their applications, but seldom course talk about how to implement and design the deep learning library.\n",
    "\n",
    "### Goal\n",
    "\n",
    "- Implement this kind of library\n",
    "- Learn how and why the priors (Tensorflow and PyTorch etc.) design their work.\n",
    "\n",
    "---"
   ]
  },
  {
   "cell_type": "markdown",
   "metadata": {},
   "source": [
    "## Introduction"
   ]
  },
  {
   "cell_type": "markdown",
   "metadata": {},
   "source": [
    "### Computational Graph\n",
    "\n",
    "We can represent the computations by using computation graph.\n",
    "\n",
    "The node represent input and operation, and the edge represent the argument of the operation.\n",
    "\n",
    "For example, we have the computation like $(3-2) + 1$ (which will be visited again), the corresponding graph is\n",
    "\n",
    "![forward](forward.png)\n",
    "\n",
    "Note that the order of arguments matters (3 should be on top of 2 etc.), but unfortunately the plot toolkits is hard to control that."
   ]
  },
  {
   "cell_type": "markdown",
   "metadata": {},
   "source": [
    "### Back propagation\n",
    "\n",
    "The forward pass builds the graph, and the backward propagation calculate the gradient.\n",
    "\n",
    "Use the last example we used $(3 - 2) + 1$, but transform it into algebraic way $z = (a - b) + c$.\n",
    "\n",
    "Suppose we want to compute the gradient of `z` w.r.t. `c`, it's easily obtained by using the chain rule.\n",
    "\n",
    "$$\\frac{\\partial (a-b) + c}{\\partial c} = 1$$\n",
    "\n",
    "Now we want gradient w.r.t. `b`, again we use the chain rule.\n",
    "\n",
    "Before that, we decompose operation into different equation in order to introduce auto differentiation.\n",
    "\n",
    "$$\n",
    "\\begin{aligned}\n",
    "z &= (a - b) + c \\\\\n",
    "\\Rightarrow z &= d + c\n",
    "\\end{aligned}\n",
    "$$\n",
    "\n",
    "$$\n",
    "\\begin{aligned}\n",
    "\\frac{\\partial (a-b) + c}{\\partial b} &= \\frac{\\partial (d + c)}{\\partial d} \\times \\frac{\\partial d}{\\partial b} \\\\\n",
    " &= 1 \\times \\frac{\\partial (a - b)}{\\partial b} \\\\\n",
    " &= 1 \\times -1 \\\\\n",
    " &= -1\n",
    "\\end{aligned} \n",
    "$$"
   ]
  },
  {
   "cell_type": "markdown",
   "metadata": {},
   "source": [
    "### Auto Differentiation\n",
    "\n",
    "We visit the last example again, all we need to know to calculate the gradient w.r.t. `d` is\n",
    "\n",
    "- Current operation node: add\n",
    "- Input argument: d and c\n",
    "- Previous gradient (upstream): 1 (I didn't say but it is actually 1 in the begining)\n",
    "\n",
    "$$\\frac{\\partial (d + c)}{\\partial d} = 1$$\n",
    "\n",
    "We know that `d` is the first argument of `add` operation, so after taking derivative w.r.t `d`, result becomes $1 \\times 1$ and we get 1, note that the first one is the upstream, and the second one is the derivative result.\n",
    "\n",
    "Now we get the gradient w.r.t. `d`, and because `d` is equal to `(a - b)`, so we pass the computed gradient (downstream) to their parent node (`a` and `b`, respectively), now we move forward (actually it's backward).\n",
    "\n",
    "Now we move ourselves to node `b` to compute the gradient w.r.t. `b`, and the current information are\n",
    "\n",
    "- Current operation node: sub\n",
    "- Input argument: a and b\n",
    "- Previous gradient (upstream): 1\n",
    "\n",
    "$$ \\frac{\\partial (a - b)}{\\partial b} = -1$$\n",
    "\n",
    "Because `b` is the second argument of `sub` operation, so the result is $1 \\times -1$ which is -1, and again, first 1 is the upstream, and the second -1 is the derivative result.\n",
    "\n",
    "The point I want to emphasize is that, it seems easy to get the derivative w.r.t. any variable without any decomposition because it's easy, but what if we want to compute the gradient of following eqation w.r.t. `z` directly in the following equation?\n",
    "\n",
    "$$y = \\frac{1}{1 + e^{-z}}$$ \n",
    "\n",
    "The philosophy of auto differntiation is that we don't take derivative directly, we decompose it into different primitive function and solve derivative of each decomposed function and combine together because we have chain rule got our back.\n",
    "\n",
    "So how does auto-diff solve the previous equation?\n",
    "\n",
    "It will decompose into\n",
    "\n",
    "- negative\n",
    "- exp\n",
    "- add\n",
    "- reciprocal\n",
    "\n",
    "and solve each function previously listed."
   ]
  },
  {
   "cell_type": "markdown",
   "metadata": {},
   "source": [
    "### VJP\n",
    "\n",
    "VJP stands for vector-jacobian product, this is usually the product between upstream and the derivative w.r.t one of the argument of operation. I will not elaborate here and it's highly recommended to take a look at [Automatic Differentiation, Toronto CSC321](http://www.cs.toronto.edu/~rgrosse/courses/csc321_2018/slides/lec10.pdf).\n",
    "\n",
    "In the much simple way, you can think that what's the computation we want to do to get the downstream w.r.t any argument in any operation node."
   ]
  },
  {
   "cell_type": "markdown",
   "metadata": {},
   "source": [
    "## Implementation"
   ]
  },
  {
   "cell_type": "markdown",
   "metadata": {},
   "source": [
    "### Forward Propagation\n",
    "\n",
    "Q: How do we obtain the computational graph?\n",
    "\n",
    "A: Trace every operation with the wrapped version by decorator."
   ]
  },
  {
   "cell_type": "markdown",
   "metadata": {},
   "source": [
    "#### Examples:\n",
    "\n",
    "That's say we want to print the numpy function name during the calculation.\n",
    "\n",
    "We can fully leverage the power of decorator."
   ]
  },
  {
   "cell_type": "code",
   "execution_count": 1,
   "metadata": {},
   "outputs": [
    {
     "name": "stdout",
     "output_type": "stream",
     "text": [
      "Wrapped version of numpy function, and its name is add\n",
      "3\n",
      "Wrapped version of numpy function, and its name is subtract\n",
      "-1\n",
      "Wrapped version of numpy function, and its name is __getitem__\n",
      "[2]\n",
      "Wrapped version of numpy function, and its name is __add__\n",
      "[1 1]\n"
     ]
    }
   ],
   "source": [
    "%matplotlib inline \n",
    "\n",
    "import numpy as np\n",
    "\n",
    "\n",
    "def get_name_decorator(func):\n",
    "    def wrapped(*args, **kwargs):\n",
    "        print(f\"Wrapped version of numpy function, and its name is {func.__name__}\")\n",
    "        result = func(*args, **kwargs)\n",
    "        return result\n",
    "    return wrapped\n",
    "        \n",
    "\n",
    "for function in [np.add, np.subtract, np.ndarray.__getitem__, np.ndarray.__add__]:\n",
    "    globals()[function.__name__] = get_name_decorator(function)\n",
    "\n",
    "print(add(1, 2))\n",
    "print(subtract(1, 2))\n",
    "print(__getitem__(np.array([0,1,2]), [2]))\n",
    "print(__add__(np.array([0,1]), np.array([1,0])))"
   ]
  },
  {
   "cell_type": "markdown",
   "metadata": {},
   "source": [
    "Now things have been little complicated. Due to the same reason, we can put the operator on the computational graph on the fly."
   ]
  },
  {
   "cell_type": "code",
   "execution_count": 2,
   "metadata": {},
   "outputs": [],
   "source": [
    "class Node:\n",
    "    def __init__(self):\n",
    "        self.gradient = 0\n",
    "\n",
    "class OperationNode(Node):\n",
    "    def __init__(self, func, args, kwargs, result):\n",
    "        super().__init__()\n",
    "        self.recipe = (func, args, kwargs, result, len(args))\n",
    "\n",
    "\n",
    "class VariableNode(Node):\n",
    "    def __init__(self, var):\n",
    "        super().__init__()\n",
    "        self.var = var\n",
    "\n",
    "\n",
    "class PlaceholderNode(Node):\n",
    "    def __init__(self, var):\n",
    "        super().__init__()\n",
    "        self.var = var\n",
    "\n",
    "\n",
    "class ConstantNode(Node):\n",
    "    def __init__(self, constant):\n",
    "        super().__init__()\n",
    "        self.constant = constant\n",
    "\n",
    "def plot_graph(backward=False, backward_result={}):\n",
    "    arrow_style = \"<|-\" if backward else \"-|>\" \n",
    "    edge_labels = {}\n",
    "    if backward:\n",
    "        info = \"output\"\n",
    "        node_index = add_node(node=ConstantNode(info), info=info)\n",
    "        default_graph.add_edge(node_index - 1, node_index)\n",
    "        for node, result in backward_result.items():\n",
    "            for edge in default_graph.edges:\n",
    "                head, tail = edge\n",
    "                if head == node:\n",
    "                    edge_labels[tuple(edge)] = str(result)\n",
    "        edge_labels[(node_index, node_index-1)] = \"1\"\n",
    "    plt.figure(3,figsize=(10,10)) \n",
    "    limits=plt.axis('off')\n",
    "    labels = {i: default_graph.nodes[i]['info'] for i in default_graph.nodes}\n",
    "    pos = nx.spring_layout(default_graph)\n",
    "    nx.draw_networkx_nodes(default_graph, pos, node_size = 3000, alpha=0.8)\n",
    "    nx.draw_networkx_labels(default_graph, pos, labels=labels, font_color=\"w\")\n",
    "    nx.draw_networkx_edges(default_graph, pos, width=3, arrowstyle=arrow_style, arrowsize=15)\n",
    "    if backward:\n",
    "        nx.draw_networkx_edge_labels(default_graph,pos,edge_labels=edge_labels,font_size=30)\n",
    "    plt.show()     "
   ]
  },
  {
   "cell_type": "code",
   "execution_count": 11,
   "metadata": {},
   "outputs": [
    {
     "name": "stdout",
     "output_type": "stream",
     "text": [
      "Forward pass\n",
      "Result is 2\n",
      "Corresponding computational graph is \n"
     ]
    },
    {
     "data": {
      "image/png": "[encoded data removed]",
      "text/plain": [
       "<Figure size 720x720 with 1 Axes>"
      ]
     },
     "metadata": {},
     "output_type": "display_data"
    }
   ],
   "source": [
    "import warnings\n",
    "\n",
    "import numpy as np\n",
    "import networkx as nx\n",
    "import matplotlib.pyplot as plt\n",
    "import matplotlib.cbook\n",
    "\n",
    "warnings.filterwarnings(\"ignore\", category=matplotlib.cbook.mplDeprecation)\n",
    "warnings.filterwarnings(\"ignore\", category=RuntimeWarning)\n",
    "\n",
    "default_graph = nx.DiGraph()\n",
    "stack = []\n",
    "\n",
    "def add_node(node, info):\n",
    "    node_index = len(default_graph.nodes) + 1\n",
    "    default_graph.add_node(node_index, node=node, info=info)\n",
    "    return node_index\n",
    "\n",
    "\n",
    "def constant(array):\n",
    "    def wrapped(*args, **kwargs):\n",
    "        node = ConstantNode(\"\".join(str(a) for a in args))\n",
    "        node_index = add_node(node, *args)\n",
    "        stack.append(node_index)\n",
    "        value = array(*args, **kwargs)\n",
    "        return value\n",
    "    return wrapped\n",
    "\n",
    "        \n",
    "def primitive(func):\n",
    "    def wrapped(*args, **kwargs):\n",
    "        result = func(*args, **kwargs)\n",
    "        node = OperationNode(func, args, kwargs, result)\n",
    "        node_index = add_node(node, func.__name__[:3])\n",
    "        parents = stack[-len(args):]\n",
    "        \n",
    "        for parent in parents:\n",
    "            default_graph.add_edge(parent, node_index)\n",
    "            stack.pop()\n",
    "        \n",
    "        stack.append(node_index)\n",
    "        return result\n",
    "    return wrapped\n",
    "        \n",
    "\n",
    "def wrapped_numpy_operator():\n",
    "    for function in [np.add, np.subtract]:\n",
    "        globals()[function.__name__] = primitive(function)\n",
    "\n",
    "    globals()[\"const\"] = constant(np.array)\n",
    "\n",
    "\n",
    "wrapped_numpy_operator()\n",
    "result = add(const(1), subtract(const(3), const(2)))\n",
    "print(\"Forward pass\")\n",
    "print(f\"Result is {result}\")\n",
    "print(\"Corresponding computational graph is \")\n",
    "plot_graph()"
   ]
  },
  {
   "cell_type": "markdown",
   "metadata": {},
   "source": [
    "### Register VJP after loading\n",
    "\n",
    "- We need to look up the corresponding VJP of given operation while backtracking.\n",
    "- Register all VJP at loading time in `__init__.py`\n",
    "\n",
    "We can easily validate our result with numerical calculation (which can be used in test), which is\n",
    "$$f'(x) = \\lim_{\\epsilon\\to 0} \\frac{f(x + \\epsilon / 2) - f(x - \\epsilon / 2)}{\\epsilon}$$"
   ]
  },
  {
   "cell_type": "code",
   "execution_count": 4,
   "metadata": {},
   "outputs": [
    {
     "name": "stdout",
     "output_type": "stream",
     "text": [
      "Upstream is 1\n",
      "Operator is negative, x is -6, result is 6\n",
      "Downstream is -1\n",
      "Numerical result is -0.9999999999976694\n"
     ]
    }
   ],
   "source": [
    "from collections import defaultdict\n",
    "\n",
    "import numpy as np\n",
    "\n",
    "# Register the VJP in memory\n",
    "primitive_vhp = defaultdict(dict)\n",
    "\n",
    "def register_vjp(func, vhp_list):\n",
    "    for i, downstream in enumerate(vhp_list):\n",
    "        primitive_vhp[func.__name__][i] = downstream\n",
    "\n",
    "register_vjp(\n",
    "    np.add,\n",
    "    [\n",
    "        lambda upstream, result, x, y: upstream,  # w.r.t. x\n",
    "        lambda upstream, result, x, y: upstream,  # w.r.t. y\n",
    "    ])\n",
    "\n",
    "register_vjp(\n",
    "    np.subtract,\n",
    "    [\n",
    "        lambda upstream, result, x, y: upstream,  # w.r.t. x\n",
    "        lambda upstream, result, x, y: -upstream,  # w.r.t. y\n",
    "    ])\n",
    "\n",
    "register_vjp(\n",
    "    np.negative,\n",
    "    [\n",
    "        lambda upstream, result, x: -upstream,  # w.r.t. x\n",
    "    ])\n",
    "\n",
    "# This is the numerical way to calculate the derivatives\n",
    "\n",
    "epsilon = 1e-4\n",
    "\n",
    "def numerical_vjp(func, arguments, wrt):\n",
    "    args_pos = [args + epsilon/2 if i == wrt else args for i, args in enumerate(arguments)]\n",
    "    func_pos = func(*args_pos)\n",
    "    args_neg = [args - epsilon/2 if i == wrt else args for i, args in enumerate(arguments)]\n",
    "    func_neg = func(*args_neg)\n",
    "    return (func_pos - func_neg) / epsilon\n",
    "    \n",
    "func = np.negative\n",
    "x = -6\n",
    "upstream = 1\n",
    "result = func(x)\n",
    "vjp = primitive_vhp[func.__name__][0]\n",
    "\n",
    "print(f\"Upstream is {upstream}\")\n",
    "print(f\"Operator is {func.__name__}, x is {x}, result is {result}\")\n",
    "print(f\"Downstream is {vjp(upstream, result, x)}\")\n",
    "print(f\"Numerical result is {numerical_vjp(func, [x], 0)}\")"
   ]
  },
  {
   "cell_type": "markdown",
   "metadata": {},
   "source": [
    "### Backward Propagation"
   ]
  },
  {
   "cell_type": "code",
   "execution_count": 5,
   "metadata": {},
   "outputs": [
    {
     "name": "stdout",
     "output_type": "stream",
     "text": [
      "Backward pass\n"
     ]
    },
    {
     "data": {
      "image/png": "[encoded data removed]",
      "text/plain": [
       "<Figure size 720x720 with 1 Axes>"
      ]
     },
     "metadata": {},
     "output_type": "display_data"
    }
   ],
   "source": [
    "import networkx as nx\n",
    "\n",
    "def backward_prop(upstream):\n",
    "    default_graph.nodes[len(default_graph.nodes())]['node'].gradient = upstream\n",
    "\n",
    "    gradient_dict = {}\n",
    "    for node in reversed(list(nx.topological_sort(default_graph))):\n",
    "        child_node = default_graph.nodes[node]['node']\n",
    "        if isinstance(child_node, OperationNode):\n",
    "            func, args, kwargs, result, arg_num = child_node.recipe\n",
    "            upstream = child_node.gradient\n",
    "\n",
    "            for i, parent in zip(range(arg_num), default_graph.predecessors(node)):\n",
    "                vhp = primitive_vhp[func.__name__][i]\n",
    "                downstream = vhp(upstream, result, *args, **kwargs)\n",
    "                default_graph.nodes[parent]['node'].gradient += downstream\n",
    "        else:\n",
    "            gradient_dict[node] = child_node.gradient\n",
    "\n",
    "    return gradient_dict\n",
    "\n",
    "print(\"Backward pass\")\n",
    "backward_result = backward_prop(np.ones_like(result))\n",
    "plot_graph(True, backward_result)"
   ]
  },
  {
   "cell_type": "markdown",
   "metadata": {},
   "source": [
    "---\n",
    "## Application"
   ]
  },
  {
   "cell_type": "markdown",
   "metadata": {},
   "source": [
    "### Simple demo\n",
    "\n",
    "We want to compute the derivatives of $x^3$, which is $3x^2$."
   ]
  },
  {
   "cell_type": "code",
   "execution_count": 6,
   "metadata": {},
   "outputs": [
    {
     "data": {
      "image/png": "[encoded data removed]",
      "text/plain": [
       "<Figure size 432x288 with 1 Axes>"
      ]
     },
     "metadata": {
      "needs_background": "light"
     },
     "output_type": "display_data"
    },
    {
     "data": {
      "text/plain": [
       "<Figure size 432x288 with 0 Axes>"
      ]
     },
     "metadata": {},
     "output_type": "display_data"
    }
   ],
   "source": [
    "%run examples/simple/poly_test.py"
   ]
  },
  {
   "cell_type": "markdown",
   "metadata": {},
   "source": [
    "Blue line is $x^3$, and the orange line is $3x^2$."
   ]
  },
  {
   "cell_type": "markdown",
   "metadata": {},
   "source": [
    "### Boston house dataset – linear regression with multiple variables\n",
    "\n",
    "Description: 13 numerical attributes, and our target is predicting house price.\n",
    "\n",
    "Criterion: Mean Square Error"
   ]
  },
  {
   "cell_type": "code",
   "execution_count": 7,
   "metadata": {},
   "outputs": [
    {
     "name": "stderr",
     "output_type": "stream",
     "text": [
      "100%|██████████| 200/200 [00:00<00:00, 1747.03it/s]\n"
     ]
    },
    {
     "data": {
      "image/png": "[encoded data removed]",
      "text/plain": [
       "<Figure size 432x288 with 1 Axes>"
      ]
     },
     "metadata": {
      "needs_background": "light"
     },
     "output_type": "display_data"
    }
   ],
   "source": [
    "%run examples/regression/boston.py"
   ]
  },
  {
   "cell_type": "markdown",
   "metadata": {},
   "source": [
    "### Iris dataset – classification \n",
    "\n",
    "Description: 4 attributes, predict one of class over 3 classes.\n",
    "\n",
    "Criterion: Cross Entropy"
   ]
  },
  {
   "cell_type": "code",
   "execution_count": 8,
   "metadata": {},
   "outputs": [
    {
     "name": "stderr",
     "output_type": "stream",
     "text": [
      "100%|██████████| 300/300 [00:00<00:00, 1527.80it/s]\n"
     ]
    },
    {
     "data": {
      "image/png": "[encoded data removed]",
      "text/plain": [
       "<Figure size 432x288 with 1 Axes>"
      ]
     },
     "metadata": {
      "needs_background": "light"
     },
     "output_type": "display_data"
    }
   ],
   "source": [
    "%run examples/classification/iris.py"
   ]
  },
  {
   "cell_type": "markdown",
   "metadata": {},
   "source": [
    "### Hand-written digits dataset – classification\n",
    "\n",
    "Description: 8 * 8 image attribute, predict which digit (0-9) is\n",
    "\n",
    "Criterion: Cross Entropy"
   ]
  },
  {
   "cell_type": "code",
   "execution_count": 9,
   "metadata": {},
   "outputs": [
    {
     "name": "stderr",
     "output_type": "stream",
     "text": [
      "100%|██████████| 300/300 [00:00<00:00, 1615.85it/s]\n"
     ]
    },
    {
     "data": {
      "image/png": "[encoded data removed]",
      "text/plain": [
       "<Figure size 432x288 with 1 Axes>"
      ]
     },
     "metadata": {
      "needs_background": "light"
     },
     "output_type": "display_data"
    }
   ],
   "source": [
    "%run examples/classification/digits.py"
   ]
  },
  {
   "cell_type": "markdown",
   "metadata": {},
   "source": [
    "---\n",
    "## Software engineering"
   ]
  },
  {
   "cell_type": "markdown",
   "metadata": {},
   "source": [
    "### Unit Test\n",
    "\n",
    "Reference the test case from google/jax. So far, We have already covered the test for value and vjp.\n",
    "\n",
    "We test different shape including scalar, vector and matrix."
   ]
  },
  {
   "cell_type": "code",
   "execution_count": 10,
   "metadata": {},
   "outputs": [
    {
     "name": "stdout",
     "output_type": "stream",
     "text": [
      "\u001b[1m============================= test session starts ==============================\u001b[0m\n",
      "platform linux -- Python 3.7.4, pytest-5.2.1, py-1.8.0, pluggy-0.13.0\n",
      "rootdir: /home/chenyee/AutoDiff-from-scratch\n",
      "plugins: arraydiff-0.3, remotedata-0.3.2, openfiles-0.4.0, doctestplus-0.4.0, forked-1.1.3, xdist-1.30.0\n",
      "collected 78 items                                                             \u001b[0m\n",
      "\n",
      "autodiff/tests/autodiff_test.py \u001b[32m.\u001b[0m\u001b[32m.\u001b[0m\u001b[32m.\u001b[0m\u001b[32m.\u001b[0m\u001b[32m.\u001b[0m\u001b[32m.\u001b[0m\u001b[32m.\u001b[0m\u001b[32m.\u001b[0m\u001b[32m.\u001b[0m\u001b[32m.\u001b[0m\u001b[32m.\u001b[0m\u001b[32m.\u001b[0m\u001b[32m.\u001b[0m\u001b[32m.\u001b[0m\u001b[32m.\u001b[0m\u001b[32m.\u001b[0m\u001b[32m.\u001b[0m\u001b[32m.\u001b[0m\u001b[32m.\u001b[0m\u001b[32m.\u001b[0m\u001b[32m.\u001b[0m\u001b[32m.\u001b[0m\u001b[32m.\u001b[0m\u001b[32m.\u001b[0m\u001b[32m.\u001b[0m\u001b[32m.\u001b[0m\u001b[32m.\u001b[0m\u001b[32m.\u001b[0m\u001b[32m.\u001b[0m\u001b[32m.\u001b[0m\u001b[32m.\u001b[0m\u001b[32m.\u001b[0m\u001b[32m.\u001b[0m\u001b[32m.\u001b[0m\u001b[32m.\u001b[0m\u001b[32m.\u001b[0m\u001b[32m.\u001b[0m\u001b[32m.\u001b[0m\u001b[32m.\u001b[0m\u001b[36m  [ 50%]\u001b[0m\n",
      "autodiff/tests/numpy_test.py \u001b[32m.\u001b[0m\u001b[32m.\u001b[0m\u001b[32m.\u001b[0m\u001b[32m.\u001b[0m\u001b[32m.\u001b[0m\u001b[32m.\u001b[0m\u001b[32m.\u001b[0m\u001b[32m.\u001b[0m\u001b[32m.\u001b[0m\u001b[32m.\u001b[0m\u001b[32m.\u001b[0m\u001b[32m.\u001b[0m\u001b[32m.\u001b[0m\u001b[32m.\u001b[0m\u001b[32m.\u001b[0m\u001b[32m.\u001b[0m\u001b[32m.\u001b[0m\u001b[32m.\u001b[0m\u001b[32m.\u001b[0m\u001b[32m.\u001b[0m\u001b[32m.\u001b[0m\u001b[32m.\u001b[0m\u001b[32m.\u001b[0m\u001b[32m.\u001b[0m\u001b[32m.\u001b[0m\u001b[32m.\u001b[0m\u001b[32m.\u001b[0m\u001b[32m.\u001b[0m\u001b[32m.\u001b[0m\u001b[32m.\u001b[0m\u001b[32m.\u001b[0m\u001b[32m.\u001b[0m\u001b[32m.\u001b[0m\u001b[32m.\u001b[0m\u001b[32m.\u001b[0m\u001b[32m.\u001b[0m\u001b[32m.\u001b[0m\u001b[32m.\u001b[0m\u001b[32m.\u001b[0m\u001b[36m     [100%]\u001b[0m\n",
      "\n",
      "\u001b[32m\u001b[1m============================== 78 passed in 0.35s ==============================\u001b[0m\n"
     ]
    }
   ],
   "source": [
    "! pytest autodiff/tests"
   ]
  },
  {
   "cell_type": "markdown",
   "metadata": {},
   "source": [
    "### Open Source contributions\n",
    "\n",
    "Find the redundant calculations of the derivatives of power function.\n",
    "1. [PyTorch](https://github.com/pytorch/pytorch/pull/28651)\n",
    "2. [JAX](https://github.com/google/jax/pull/157)\n",
    "3. [Autograd](https://github.com/HIPS/autograd/pull/541)"
   ]
  }
 ],
 "metadata": {
  "kernelspec": {
   "display_name": "Python 3",
   "language": "python",
   "name": "python3"
  },
  "language_info": {
   "codemirror_mode": {
    "name": "ipython",
    "version": 3
   },
   "file_extension": ".py",
   "mimetype": "text/x-python",
   "name": "python",
   "nbconvert_exporter": "python",
   "pygments_lexer": "ipython3",
   "version": "3.7.4"
  }
 },
 "nbformat": 4,
 "nbformat_minor": 2
}
