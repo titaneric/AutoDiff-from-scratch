{
 "cells": [
  {
   "cell_type": "markdown",
   "metadata": {},
   "source": [
    "# A basic neural network library supported auto differentiation"
   ]
  },
  {
   "cell_type": "markdown",
   "metadata": {},
   "source": [
    "## Outline\n",
    "\n",
    "- Motivation\n",
    "- Introduction\n",
    "- Implementation\n",
    "- Application"
   ]
  },
  {
   "cell_type": "markdown",
   "metadata": {},
   "source": [
    "## Motivation\n",
    "\n",
    "Most deep learning courses aim to teach math behind the network, architecture and their applications, but seldom course talk about how to implement and design the deep learning library.\n",
    "\n",
    "### Goal\n",
    "\n",
    "- Implement this kind of library\n",
    "- Learn how and why the priors (Tensorflow and PyTorch etc.) design their work."
   ]
  },
  {
   "cell_type": "markdown",
   "metadata": {},
   "source": [
    "## Introduction"
   ]
  },
  {
   "cell_type": "markdown",
   "metadata": {},
   "source": [
    "### Computational Graph"
   ]
  },
  {
   "cell_type": "markdown",
   "metadata": {},
   "source": [
    "### Auto Differentiation"
   ]
  },
  {
   "cell_type": "markdown",
   "metadata": {},
   "source": [
    "### VJP"
   ]
  },
  {
   "cell_type": "markdown",
   "metadata": {},
   "source": [
    "### Back propagation"
   ]
  },
  {
   "cell_type": "markdown",
   "metadata": {},
   "source": [
    "## Implementation"
   ]
  },
  {
   "cell_type": "markdown",
   "metadata": {},
   "source": [
    "### Forward Propagation\n",
    "\n",
    "Q: How do we obtain the computational graph?\n",
    "\n",
    "A: Trace every operation with the wrapped version by decorator."
   ]
  },
  {
   "cell_type": "markdown",
   "metadata": {},
   "source": [
    "That's say we want to print the numpy function name during the calculation.\n",
    "\n",
    "We can fully leverage the power of decorator."
   ]
  },
  {
   "cell_type": "code",
   "execution_count": 46,
   "metadata": {},
   "outputs": [
    {
     "name": "stdout",
     "output_type": "stream",
     "text": [
      "Wrapped version of numpy function, and its name is add\n",
      "3\n",
      "Wrapped version of numpy function, and its name is subtract\n",
      "-1\n"
     ]
    }
   ],
   "source": [
    "import numpy as np\n",
    "\n",
    "\n",
    "def get_name_decorator(func):\n",
    "    def wrapped(*args, **kwargs):\n",
    "        print(f\"Wrapped version of numpy function, and its name is {func.__name__}\")\n",
    "        result = func(*args, **kwargs)\n",
    "        return result\n",
    "    return wrapped\n",
    "        \n",
    "\n",
    "for function in [np.add, np.subtract]:\n",
    "    globals()[function.__name__] = get_name_decorator(function)\n",
    "\n",
    "print(add(1, 2))\n",
    "print(subtract(1, 2))"
   ]
  },
  {
   "cell_type": "markdown",
   "metadata": {},
   "source": [
    "For the same reason, we can put the operator on the computational graph on the fly."
   ]
  },
  {
   "cell_type": "code",
   "execution_count": 63,
   "metadata": {},
   "outputs": [
    {
     "name": "stdout",
     "output_type": "stream",
     "text": [
      "Result is 1\n",
      "Corresponding computational graph is \n"
     ]
    },
    {
     "data": {
      "image/png": "[encoded data removed]",
      "text/plain": [
       "<Figure size 432x288 with 1 Axes>"
      ]
     },
     "metadata": {},
     "output_type": "display_data"
    }
   ],
   "source": [
    "import numpy as np\n",
    "import networkx as nx\n",
    "import matplotlib.pyplot as plt\n",
    "\n",
    "default_graph = nx.DiGraph()\n",
    "stack = []\n",
    "\n",
    "def add_node(graph, node):\n",
    "    node_index = len(default_graph.nodes) + 1\n",
    "    default_graph.add_node(node_index, node=node)\n",
    "    return node_index\n",
    "\n",
    "\n",
    "def constant(array):\n",
    "    def wrapped(*args, **kwargs):\n",
    "        node_index = add_node(graph, *args)\n",
    "        stack.append(node_index)\n",
    "        value = array(*args, **kwargs)\n",
    "        return value\n",
    "    return wrapped\n",
    "\n",
    "        \n",
    "def primitive(func):\n",
    "    def wrapped(*args, **kwargs):\n",
    "        node_index = add_node(graph, func.__name__[:3])\n",
    "        parents = stack[-len(args):]\n",
    "        \n",
    "        for parent in parents:\n",
    "            default_graph.add_edge(parent, node_index)\n",
    "            stack.pop()\n",
    "        \n",
    "        stack.append(node_index)\n",
    "        result = func(*args, **kwargs)\n",
    "        return result\n",
    "    return wrapped\n",
    "        \n",
    "\n",
    "def wrapped_numpy_operator():\n",
    "    for function in [np.add, np.subtract]:\n",
    "        globals()[function.__name__] = primitive(function)\n",
    "\n",
    "    globals()[\"const\"] = constant(np.array)\n",
    "\n",
    "    \n",
    "def plot_graph():\n",
    "    limits=plt.axis('off')\n",
    "    labels = {i: default_graph.nodes[i]['node'] for i in default_graph.nodes}\n",
    "    pos = nx.spring_layout(default_graph)\n",
    "    nx.draw_networkx_nodes(default_graph, pos, node_size = 3000, alpha=0.8)\n",
    "    nx.draw_networkx_labels(default_graph, pos, labels=labels, font_color=\"w\")\n",
    "    nx.draw_networkx_edges(default_graph, pos, width=3)\n",
    "    plt.show()\n",
    "\n",
    "wrapped_numpy_operator()\n",
    "result = add(const(1), subtract(const(2), const(2)))\n",
    "print(f\"Result is {result}\")\n",
    "print(\"Corresponding computational graph is \")\n",
    "plot_graph()"
   ]
  },
  {
   "cell_type": "markdown",
   "metadata": {},
   "source": [
    "### Register VJP after loading\n",
    "\n",
    "- We need to look up the corresponding VJP of given operation while backtracking.\n",
    "- Load in `__init__.py`"
   ]
  },
  {
   "cell_type": "code",
   "execution_count": 17,
   "metadata": {},
   "outputs": [
    {
     "name": "stdout",
     "output_type": "stream",
     "text": [
      "Upstream is 100\n",
      "Operator is negative, x is -6, result is 6\n",
      "Downstream is -100\n"
     ]
    }
   ],
   "source": [
    "from collections import defaultdict\n",
    "\n",
    "import numpy as np\n",
    "\n",
    "primitive_vhp = defaultdict(dict)\n",
    "\n",
    "def register_vjp(func, vhp_list):\n",
    "    for i, downstream in enumerate(vhp_list):\n",
    "        primitive_vhp[func.__name__][i] = downstream\n",
    "\n",
    "register_vjp(\n",
    "    np.negative,\n",
    "    [\n",
    "        lambda upstream, result, x: -upstream,  # w.r.t. x\n",
    "    ])\n",
    "\n",
    "func = np.negative\n",
    "x = -6\n",
    "upstream = 100\n",
    "result = func(x)\n",
    "vjp = primitive_vhp[func.__name__][0]\n",
    "\n",
    "print(f\"Upstream is {upstream}\")\n",
    "print(f\"Operator is {func.__name__}, x is {x}, result is {result}\")\n",
    "print(f\"Downstream is {vjp(upstream, result, x)}\")"
   ]
  },
  {
   "cell_type": "markdown",
   "metadata": {},
   "source": [
    "### Backward Propagation"
   ]
  },
  {
   "cell_type": "code",
   "execution_count": 18,
   "metadata": {},
   "outputs": [],
   "source": [
    "import networkx as nx\n",
    "\n",
    "def backward_prop(upstream):\n",
    "    default_graph.nodes[len(graph.nodes())]['node'].gradient = upstream\n",
    "\n",
    "    gradient_dict = {}\n",
    "    for node in reversed(list(nx.topological_sort(default_graph))):\n",
    "        child_node: OperationNode = default_graph.nodes[node]['node']\n",
    "        if isinstance(child_node, OperationNode):\n",
    "            func, args, kwargs, result, arg_num = child_node.recipe\n",
    "            upstream = child_node.gradient\n",
    "\n",
    "            for i, parent in zip(range(arg_num), default_graph.predecessors(node)):\n",
    "                vhp = primitive_vhp[func.__name__][i]\n",
    "                downstream = vhp(upstream, result, *args, **kwargs)\n",
    "                default_graph.nodes[parent]['node'].gradient += downstream\n",
    "\n",
    "        elif is_wrt(child_node):\n",
    "            gradient_dict[child_node.var] = child_node.gradient\n",
    "\n",
    "    return gradient_dict\n"
   ]
  },
  {
   "cell_type": "markdown",
   "metadata": {},
   "source": [
    "### Simple demo"
   ]
  },
  {
   "cell_type": "markdown",
   "metadata": {},
   "source": [
    "### Linear regression with one variable"
   ]
  },
  {
   "cell_type": "markdown",
   "metadata": {},
   "source": [
    "### Boston dataset – linear regression with multiple variables\n",
    "\n",
    "#### Mean Square Error"
   ]
  },
  {
   "cell_type": "markdown",
   "metadata": {},
   "source": [
    "### Iris dataset – classification \n",
    "\n",
    "#### Cross Entropy"
   ]
  },
  {
   "cell_type": "markdown",
   "metadata": {},
   "source": [
    "### Open Source contributions\n",
    "\n",
    "Find the redundant calculations of the derivatives of power function.\n",
    "1. [PyTorch](https://github.com/pytorch/pytorch/pull/28651)\n",
    "2. [JAX](https://github.com/google/jax/pull/157)\n",
    "3. [Autograd](https://github.com/HIPS/autograd/pull/541)"
   ]
  },
  {
   "cell_type": "markdown",
   "metadata": {},
   "source": [
    "### Reference"
   ]
  }
 ],
 "metadata": {
  "celltoolbar": "Slideshow",
  "kernelspec": {
   "display_name": "Python 3",
   "language": "python",
   "name": "python3"
  },
  "language_info": {
   "codemirror_mode": {
    "name": "ipython",
    "version": 3
   },
   "file_extension": ".py",
   "mimetype": "text/x-python",
   "name": "python",
   "nbconvert_exporter": "python",
   "pygments_lexer": "ipython3",
   "version": "3.7.4"
  }
 },
 "nbformat": 4,
 "nbformat_minor": 2
}
